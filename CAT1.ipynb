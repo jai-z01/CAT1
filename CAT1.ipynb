{
 "cells": [
  {
   "cell_type": "markdown",
   "id": "3316cb7c",
   "metadata": {},
   "source": [
    "Q1 Generating 1000 Random Numbers"
   ]
  },
  {
   "cell_type": "code",
   "execution_count": 1,
   "id": "c8e45aa9",
   "metadata": {},
   "outputs": [],
   "source": [
    "import pandas as pd\n",
    "import numpy as np"
   ]
  },
  {
   "cell_type": "code",
   "execution_count": 2,
   "id": "64c3f6c8",
   "metadata": {},
   "outputs": [],
   "source": [
    "x = (np.random.rand(1000)*100)\n",
    "x= np.asarray(x,dtype='int')\n",
    "y = x+np.random.normal(0,50,1000)\n",
    "y= np.asarray(y,dtype='int')"
   ]
  },
  {
   "cell_type": "code",
   "execution_count": 3,
   "id": "b7fff7f2",
   "metadata": {},
   "outputs": [
    {
     "data": {
      "text/plain": [
       "(array([18, 30, 16, 14, 17, 52, 49, 58, 82, 30, 86, 19, 12, 59, 22, 57, 80,\n",
       "        50,  3, 17, 60, 13, 62, 12, 33, 64, 34, 98, 92, 64, 74, 43, 86,  7,\n",
       "        26, 18, 76, 84, 48, 58, 84, 20,  4,  8, 74, 44, 15, 20, 39, 78, 48,\n",
       "        82, 35, 89, 11, 69, 60, 73, 51, 31, 57, 24, 92, 25, 77, 37, 92, 71,\n",
       "        31, 56, 80, 62,  9, 70, 95, 74,  6, 73, 50, 86, 91, 95, 48, 46,  9,\n",
       "        34, 26,  2, 83, 81, 36, 33, 42, 81, 83,  3, 99, 40, 65, 51, 16, 92,\n",
       "        40, 90, 36, 44, 42,  0, 25, 23, 79,  2, 94, 23, 28, 77, 30,  2, 35,\n",
       "        81, 93, 16, 84, 96, 36, 37, 10, 36, 27, 25, 17, 83, 54, 49, 58, 20,\n",
       "        89, 23, 78, 99, 56, 51, 79, 39, 57, 23, 20, 23, 84, 84, 52, 57, 10,\n",
       "        61, 87, 65, 43, 57, 58, 21, 31, 30,  4, 42, 40, 27, 68, 79, 70, 71,\n",
       "        70, 43, 66, 10, 64, 22, 48, 13, 44, 58, 81, 51, 68, 12, 50, 65, 16,\n",
       "        79, 81,  2,  7, 45, 90, 63, 59, 35, 22, 62, 14, 15, 12, 82,  5, 47,\n",
       "        29, 63, 89, 32, 97, 20, 93, 20, 73, 95, 33, 81, 93,  8, 93, 49, 57,\n",
       "        24, 21, 19,  6, 48, 49,  1, 51, 94, 25, 86, 86, 68, 42, 96, 21, 82,\n",
       "        86, 93, 36, 53, 96, 64, 13, 71, 95,  8, 10, 66, 63, 58, 12, 10, 72,\n",
       "        72, 56, 10, 46, 70, 80, 93, 73, 54,  1, 91, 83, 63, 10, 17, 38, 96,\n",
       "        92, 47, 35, 51, 79, 81, 13, 28, 37, 72, 15,  0, 37,  3, 66,  9, 53,\n",
       "        77, 18, 15, 61,  7, 26, 35, 19, 27,  2,  2, 80,  1, 55, 75, 73,  3,\n",
       "        46, 52, 40, 54, 95, 88, 81, 20, 42, 68, 87, 95, 41, 22, 38, 98,  2,\n",
       "         1, 45, 21, 61, 71, 99, 70, 46, 83, 37,  3, 36, 23, 60,  0, 72, 57,\n",
       "        60, 65, 75, 95, 57, 56, 18, 94, 82, 12, 13, 85, 22, 52, 80, 50, 73,\n",
       "         9,  6, 85, 31, 43, 13,  0, 12, 72, 30, 50, 48, 12, 31, 61, 66, 29,\n",
       "        34, 57, 49, 72, 75, 58,  6, 73, 41, 77, 55, 66, 58, 83, 43, 97, 27,\n",
       "        43, 19,  1, 66, 68, 77, 28, 96, 20, 84, 32, 29, 99,  4, 27, 18, 96,\n",
       "        39,  7, 15, 12, 38, 90, 57, 21, 64, 68, 92, 50, 83, 10, 35, 36, 90,\n",
       "        78, 68, 98, 88, 63, 13, 34, 80, 55,  6, 10, 56, 26, 20, 77, 12, 93,\n",
       "        19, 25, 69, 75, 74,  2, 89, 78, 95, 38, 85, 37, 59, 31, 40, 14, 49,\n",
       "        35, 16, 28, 23,  5, 83, 20, 98, 91, 72, 82, 64, 49, 13, 78, 79, 99,\n",
       "        18, 99, 19, 61, 86, 73, 52, 32, 89, 42, 19, 89, 19, 61, 94, 18, 92,\n",
       "        41, 88, 64, 69, 35, 39, 25, 39, 56, 27, 83, 34, 39, 85, 98, 44, 39,\n",
       "        32, 50, 37, 97,  8, 99, 62, 92, 65, 20, 83, 39,  6, 32,  2, 22, 41,\n",
       "        85, 12,  6, 69, 12, 17, 87, 41,  0, 10, 82, 14, 28,  7, 76, 79, 76,\n",
       "        86, 35, 37, 97, 13, 10, 31, 90, 11, 93, 25, 10, 18, 72,  2, 81, 69,\n",
       "        49, 59, 71, 79, 78, 10, 25, 93, 26, 85, 64, 63, 90, 12, 27, 45, 38,\n",
       "        82, 42,  0, 98, 59, 36, 72, 19,  8,  3, 16, 45, 13, 90, 45, 44, 99,\n",
       "        43, 98, 81, 84, 72, 69, 73, 75, 90,  4,  0, 60, 19, 83, 86, 47, 99,\n",
       "        22, 59, 73, 32, 21, 27, 11, 36, 70, 52, 89, 59, 10, 56, 44, 50, 58,\n",
       "        92, 38,  3, 27, 47, 86, 38, 19, 67, 11,  2, 94,  0, 76,  9,  5, 43,\n",
       "        52, 66, 26, 56, 81, 68, 51, 68, 27, 26, 94, 90, 65, 84, 92, 99,  2,\n",
       "         9, 75, 47, 51, 23,  3, 18, 99, 86, 90, 60, 30, 17, 30, 84, 95, 78,\n",
       "        86, 53, 12, 30,  4, 41, 77,  3, 58, 38, 52, 62, 82, 58, 90, 57, 63,\n",
       "        99,  2, 47, 51, 63, 67,  6, 90, 16, 67, 51, 16, 32,  2, 83, 77, 45,\n",
       "        96, 97, 71, 45, 37, 27, 37, 67, 61, 15, 31, 76, 42, 53, 52, 69, 53,\n",
       "        36, 11, 94, 96, 41, 16, 70, 64, 73, 35,  1, 75, 81, 77, 24, 94, 20,\n",
       "        74, 57, 88, 83, 14, 29,  5,  5, 84, 47,  9, 68, 13, 55, 77, 70,  5,\n",
       "        55, 87, 27, 52, 53, 66, 99, 72, 31, 43, 68,  6, 47, 35,  8, 69,  1,\n",
       "        63, 92, 68, 33,  0, 31,  8, 90, 33,  8, 23, 30, 84, 34, 50, 38, 14,\n",
       "        97, 20, 86, 48, 64, 75,  8, 52, 94, 36, 33, 93, 52, 48, 39, 67, 24,\n",
       "        47, 30, 58, 44, 11,  9, 17, 95, 14, 36, 88, 77, 68, 81, 90, 94, 98,\n",
       "        68, 28, 41, 76, 29, 23, 29,  6,  0, 14, 86, 70, 93, 52, 84, 87, 60,\n",
       "        96, 23, 36, 25, 41, 96, 62, 23, 85, 61, 21, 27, 89, 91, 57, 53, 52,\n",
       "        42, 19, 74, 71, 47,  2, 85, 10,  0, 76, 38,  0, 71, 12, 45, 17, 62,\n",
       "        59, 89, 45,  1, 11, 24, 74, 41, 13, 78, 17, 35, 22,  0,  2,  7, 29,\n",
       "        78, 66,  5, 14, 17, 91, 59,  6, 50, 32, 88, 90, 98, 15, 57, 14,  6,\n",
       "        89, 34, 56, 32,  0, 67, 26, 66, 14, 84, 77, 91, 33, 76, 54, 37, 24,\n",
       "        60, 33, 38,  8, 57, 79,  0, 14, 17, 13, 66, 43, 61, 34, 41, 84, 94,\n",
       "        78, 64, 48, 90, 14, 26, 70, 52, 40, 95, 89,  2, 51, 86, 84, 31, 80,\n",
       "        10, 19, 78, 25, 51, 35, 19, 54, 26, 36, 78, 34, 78, 46, 97,  5, 37,\n",
       "        56, 62, 88, 35, 19,  3, 77, 29, 37, 55, 62, 71, 33, 50]),\n",
       " array([  30,   43,   51,   20,   76,    2,   43,   69,   89,   12,   93,\n",
       "         -52,    7,   68,   47,   68,   26,  -23,   63,  -17,   75,   46,\n",
       "          40,   56,   41,  111,   82,   99,   11,  109,  146,   44,   92,\n",
       "          -5,   66,   56,   93,  123,  -17,  -20,  133,   48,  -28,  -59,\n",
       "          62,   95,   51,  -87,  -89,  -22,   28,   22,   37,   61,   91,\n",
       "         134,  -27,  176,   90,   60,   59,   -5,   38,  -25,  136,    4,\n",
       "         142,  102,   66,   79,   48,  143,  -11,   39,  122,  116,  -38,\n",
       "         118,   10,   67,  179,  128,   47,   46,  -13,   93,  -13,   25,\n",
       "         -17,   92,   41,   40,  101,   82,   54,  -67,   99,   47,   83,\n",
       "         133,  119,  142,   99,   29,   93,  -17,   39,  -56,  -10,   75,\n",
       "          38,   11,   96,   78,   22,   68,   22,  -36,    0,   18,  211,\n",
       "           2,   94,  152,   34,   21,  -86,  -13,   -5,   26,  -16,  163,\n",
       "          37,   18,  112,   17,   88,  -53,   81,   59,   80,  100,   49,\n",
       "         -21,   22,   85,  128,   65,   25,   15,   18,   38,   -2,   48,\n",
       "          18,   27,   98,   -5,  109,   27,   90,   85,   -8,  -27,   36,\n",
       "          -8,   80,   27,   31,  216,    8,   71,  -13,   49,  114,   -9,\n",
       "           3,   17,   37,   74,   92,   12,   18,   86,  133,  100,    8,\n",
       "          89,  -33,   10,   19,   41,  131,   93,  148,   56,   30,   80,\n",
       "         -11,   -2,   -7,   86,  -35,   63,   99,   35,   -9,   18,   69,\n",
       "          57,   95,   -2,   43,  128,   39,   39,   55,   13,  101,   36,\n",
       "          80,   33,  123,  155,    2,   35,  106,  -59,   84,   26,  -15,\n",
       "         100,  100,    0,   43,  120,   75,   13,  125,   63,  111,  155,\n",
       "          93,   86,  -37,  142,   51,  -23,   47,  105,  137,  -11,   39,\n",
       "         -55,  137,   67,  -25,  102,   84,   38,   98,   73,  123,  108,\n",
       "         -70,   87,   87,    0,   48,   16,   71,  184,   26,   25,   71,\n",
       "          90,   43,   34,   40,   37,  -22,  122,  -16,  -23,   51,  -27,\n",
       "         146,   82,   13,   84,   19,   45,   86,   18,  103,   55,  158,\n",
       "          22,   -5,    9,  -11,   39,   39,   47,  132,   98,   40,  -85,\n",
       "          82,   22,  155,  111,   43,   86,   84,  192,   71,   32,   64,\n",
       "          24,    1,  233,  -24,   52,   15,   76,  170,   28,  130,   75,\n",
       "         -41,   52,  -13,   88,  105,   39,   33,   -7,   75,   62,   95,\n",
       "          35,  141,   20,   29,   97,   50,   41,    9,  -24,   51,  127,\n",
       "         -53,   34,  -57,  117,  163,   -8,  -55,  101,  129,   93,   77,\n",
       "         117,   62,   90,   64,   71,   28,   66,    8,   52,  131,   11,\n",
       "         -35,   17,   44,   60,   48,   65,  -23,   20,   62,   86,   21,\n",
       "         125,    6,  102,    5,   73,   18,   48,   17,    9,   91,   83,\n",
       "          54,   31,  129,   27,   65,   14,   65,   42,  -11,   27,   67,\n",
       "          44,  115,   40,   19,    8,   21,   62,   75,  134,   20,  108,\n",
       "          37,   96,  103,   36,   25,  -55,   98,  102,   23,  141,   15,\n",
       "         115,   56,    7,   47,  139,  -39,   37,  -31,   59,   38,  146,\n",
       "          11,   53,  -17,   89,   97,  121,   74,  -39,  134,   99,  109,\n",
       "          97,  109,   15,   56,   24,   15,   10,    4,   53,   -9,  -11,\n",
       "         -34,    9,   79,  105,  112,  119,   28,   26,   13,  -37,   19,\n",
       "         132,  166,  170,  -22,   28,   15,  165,   62,   -8,    1,   72,\n",
       "          81,   35,   55,   94,   12,   72,   69,   51,  -42,  -44,   86,\n",
       "          41,    9,   77,  -15,   46,  115,  -30,   72,   63,  -42,  -24,\n",
       "          75,   79,  -14,  -22,   52,   -3,  -61,   86, -107,   67,    2,\n",
       "          92,   62,  -14,  157,   27,   -6,   82,  -31,   69,   24,  116,\n",
       "          29,   12,   95,  -20,  -44,   79,   57,  -40,  -14,   58,  -26,\n",
       "         -61,   -4,   18,  105,  105,  105,   22,   19,   97,   15,   43,\n",
       "          13,  101,   16,   85,  -21,  -93,  -24,   93,  -47,   59,  -12,\n",
       "          11,  105,  127,   88,  140,   24,   66,  124,    9,  129,    0,\n",
       "          84,  161,  -63,   79,   39,   34,   91,   54,   -4,  165,   27,\n",
       "           8,   55,   36,    1,  103,   64,   96,   82,   68,  -26,   -1,\n",
       "         168,   47,  101,  -13,   66,  167,   68,  139,  145,  122,   41,\n",
       "          24,   63,  -52,   93,   56,  -15,  135,   39,  120,  112,   30,\n",
       "          89,   29,   63,   29,  -85,   17,   74,   -1,   44,   77,    9,\n",
       "          70,   59,  108,  -10,   56,   44,   54,   77,  -10,   95,   35,\n",
       "         -11,   94,  151,   70,  140,  -24,   13,   37,   94,  -66,   43,\n",
       "          40,  206,   50,   32,  150,   11,  -39,   62,   69,  145,   24,\n",
       "          53,  152,  -19,   16,   91,   97,   76,  101,    4,    3,   16,\n",
       "          -6,   93,   15,  125,   57,   15,  119,   42,   40,  177,   55,\n",
       "          62,   94,   14,  135,  123,  -42,  -11,   51,  -17,  168,  116,\n",
       "          77,   87,   92,  104,   13,   16,   37,  -14,   21,  -18,   57,\n",
       "         115,    8,  -32,   58,  -22,  -31,   21,    6,   28,  118,  145,\n",
       "          92,   78,   70,   46,  130,   35,   68,   91,   -5,   37,   95,\n",
       "          -2,   44,  100,   57,   81,   51,   77,   59,   97,   67,   -3,\n",
       "          92,  137,  136,   -5,    3,   91,  -33,   91,  -61,  138,   77,\n",
       "          49,   -3,  117,  169,   15,  -18,  -28,   56,  152,   96,   82,\n",
       "          62,   44,  -81,   99,   86,    2,   53,   82,   16,   77,   40,\n",
       "          87,   83,  -23,   31,   14,   46,   69,   13,   60,   85,    3,\n",
       "         -53,  -29,   40,   72,   50,   11,  126,   94,    0,   57,   39,\n",
       "          10,   -7,   86,   95,  114,   60,   26,   -4,   45,   71,  -17,\n",
       "         134,   58,   66,   45,  104,    7,    6,   70,    3,   77,   91,\n",
       "          27,  141,   92,   18,  120,  106,   37,  -22,   19,  165,   94,\n",
       "          32,  143,  123,   40,   49,  160,   88,   99,  -21,  -50,   86,\n",
       "         130,   11,    7,   14,   29,  116,  -20,  131,  158,  113,   25,\n",
       "          49,   92,  -35,   68,   44,  122,  128,   -6,   56,  103,   33,\n",
       "          85,   76,   -8,   81,  125,   43,  -29,   84,  123,   76,   53,\n",
       "          97,    8,  140,  -62,  110,   33,  -49,   10,   32,   63,  138,\n",
       "         -59,   80,   69,   60,   43,   92,   63,  -75,   76,   50,   26,\n",
       "          82,    9,  127,   27,   41,  -38,   41,    9,   59,   43,   45,\n",
       "          42,   71,   -4,   60,   50,  106,  -10,   49,  -17,   21,   35,\n",
       "         201,   48,  114,   48,    0,  103,   25,   56,   69,   -8,   51,\n",
       "         -87,   50,  -61,   74,   99,   77,  -32,   83,   59,  140,   13,\n",
       "          15,  100,   27,  -15,   27,   78,  -69,  -26,    2,    9,   76,\n",
       "         -71,  182,   35,   52,  125,   61,   57,  112,  108,  100,   25,\n",
       "          -2,   58,   57,   32,  165,  110,   67,   75,   82,  108,   41,\n",
       "          45,  -32,  -89,   71,  149,  114,  -36,   74,   19,   84,   12,\n",
       "           8,   52,  151,   42,   35,  -16,   42,   31,   13,   87,   57,\n",
       "          99,  -37,  156,   40,    0,   58,   42,   18,  106,   63]))"
      ]
     },
     "execution_count": 3,
     "metadata": {},
     "output_type": "execute_result"
    }
   ],
   "source": [
    "x,y"
   ]
  },
  {
   "cell_type": "markdown",
   "id": "5045f371",
   "metadata": {},
   "source": [
    "Q2 Linear Regression from scratch"
   ]
  },
  {
   "cell_type": "code",
   "execution_count": 4,
   "id": "a18350fc",
   "metadata": {},
   "outputs": [],
   "source": [
    "inds = np.random.permutation(len(x))\n",
    "size = round(len(x)*0.7)\n",
    "train,test = inds[:size],inds[size:]"
   ]
  },
  {
   "cell_type": "code",
   "execution_count": 5,
   "id": "77b04d84",
   "metadata": {},
   "outputs": [],
   "source": [
    "x_train,x_test,y_train,y_test = x[train],x[test],y[train],y[test]"
   ]
  },
  {
   "cell_type": "code",
   "execution_count": 6,
   "id": "d6ee2ee4",
   "metadata": {},
   "outputs": [
    {
     "data": {
      "text/plain": [
       "(0.9046937554410581, 7.133627294621164)"
      ]
     },
     "execution_count": 6,
     "metadata": {},
     "output_type": "execute_result"
    }
   ],
   "source": [
    "m_scr = ((x_train-x_train.mean())*(y_train-y_train.mean())).sum()/((x_train-x_train.mean())**2).sum()\n",
    "c_scr = y_train.mean()-(x_train.mean()*m_scr)\n",
    "m_scr,c_scr"
   ]
  },
  {
   "cell_type": "code",
   "execution_count": 7,
   "id": "74753aa8",
   "metadata": {},
   "outputs": [],
   "source": [
    "y_pred_scr = c_scr + (m_scr*x_test)"
   ]
  },
  {
   "cell_type": "code",
   "execution_count": 8,
   "id": "3f4590d0",
   "metadata": {},
   "outputs": [],
   "source": [
    "def accuracy(y_pred,y_test):\n",
    "    print(\"mae :\",np.abs(y_test-y_pred).mean())\n",
    "    print(\"rmse :\",(((y_test-y_pred)**2).mean())**0.5)"
   ]
  },
  {
   "cell_type": "code",
   "execution_count": 9,
   "id": "c107cfdc",
   "metadata": {},
   "outputs": [
    {
     "name": "stdout",
     "output_type": "stream",
     "text": [
      "mae : 38.22299568250259\n",
      "rmse : 48.50556333129291\n"
     ]
    }
   ],
   "source": [
    "accuracy(y_pred_scr,y_test)"
   ]
  },
  {
   "cell_type": "code",
   "execution_count": 10,
   "id": "8ef9ad55",
   "metadata": {},
   "outputs": [
    {
     "data": {
      "text/plain": [
       "<matplotlib.collections.PathCollection at 0x7fa5b4e9ecd0>"
      ]
     },
     "execution_count": 10,
     "metadata": {},
     "output_type": "execute_result"
    },
    {
     "data": {
      "image/png": "[encoded data removed]",
      "text/plain": [
       "<Figure size 432x288 with 1 Axes>"
      ]
     },
     "metadata": {
      "needs_background": "light"
     },
     "output_type": "display_data"
    }
   ],
   "source": [
    "import matplotlib.pyplot as plt\n",
    "plt.plot(x_test,y_pred_scr,c=\"b\")\n",
    "plt.scatter(x_test,y_test,c=\"r\")"
   ]
  },
  {
   "cell_type": "markdown",
   "id": "9d889aa6",
   "metadata": {},
   "source": [
    "Q3 Gradient Descent"
   ]
  },
  {
   "cell_type": "code",
   "execution_count": 11,
   "id": "89a88bc6",
   "metadata": {},
   "outputs": [],
   "source": [
    "m_gd,c_gd = 0,0"
   ]
  },
  {
   "cell_type": "code",
   "execution_count": 12,
   "id": "34842981",
   "metadata": {},
   "outputs": [],
   "source": [
    "l = 0.0001\n",
    "epochs = 30000\n",
    "n = float(len(x_train))"
   ]
  },
  {
   "cell_type": "code",
   "execution_count": 13,
   "id": "8e739647",
   "metadata": {},
   "outputs": [],
   "source": [
    "for i in range(epochs): \n",
    "    y_p= m_gd*x_train + c_gd\n",
    "    D_m = (-2/n) * sum(x_train * (y_train - y_p))\n",
    "    D_c = (-2/n) * sum(y_train - y_p)\n",
    "    m_gd = m_gd - l * D_m\n",
    "    c_gd = c_gd - l * D_c"
   ]
  },
  {
   "cell_type": "code",
   "execution_count": 14,
   "id": "498107af",
   "metadata": {},
   "outputs": [
    {
     "data": {
      "text/plain": [
       "(0.9257668201699256, 5.714744185087895)"
      ]
     },
     "execution_count": 14,
     "metadata": {},
     "output_type": "execute_result"
    }
   ],
   "source": [
    "m_gd,c_gd"
   ]
  },
  {
   "cell_type": "code",
   "execution_count": 15,
   "id": "31fd657d",
   "metadata": {},
   "outputs": [],
   "source": [
    "y_pred_gd = m_gd*x_test + c_gd"
   ]
  },
  {
   "cell_type": "code",
   "execution_count": 16,
   "id": "c25ee525",
   "metadata": {},
   "outputs": [
    {
     "data": {
      "text/plain": [
       "<matplotlib.collections.PathCollection at 0x7fa5b461dfa0>"
      ]
     },
     "execution_count": 16,
     "metadata": {},
     "output_type": "execute_result"
    },
    {
     "data": {
      "image/png": "[encoded data removed]",
      "text/plain": [
       "<Figure size 432x288 with 1 Axes>"
      ]
     },
     "metadata": {
      "needs_background": "light"
     },
     "output_type": "display_data"
    }
   ],
   "source": [
    "plt.plot(x_test,y_pred_gd,c=\"b\")\n",
    "plt.scatter(x_test,y_test,c=\"r\")"
   ]
  },
  {
   "cell_type": "code",
   "execution_count": 17,
   "id": "ec8c26c9",
   "metadata": {},
   "outputs": [
    {
     "name": "stdout",
     "output_type": "stream",
     "text": [
      "mae : 38.22514268979527\n",
      "rmse : 48.52788709361656\n"
     ]
    }
   ],
   "source": [
    "accuracy(y_pred_gd,y_test)"
   ]
  },
  {
   "cell_type": "markdown",
   "id": "56a63175",
   "metadata": {},
   "source": [
    "Q4 SKLearn Module"
   ]
  },
  {
   "cell_type": "code",
   "execution_count": 18,
   "id": "89ba53e4",
   "metadata": {},
   "outputs": [
    {
     "data": {
      "text/plain": [
       "LinearRegression()"
      ]
     },
     "execution_count": 18,
     "metadata": {},
     "output_type": "execute_result"
    }
   ],
   "source": [
    "from sklearn.linear_model import LinearRegression\n",
    "reg = LinearRegression()\n",
    "\n",
    "reg.fit(x_train.reshape(-1,1),y_train.reshape(-1,1))"
   ]
  },
  {
   "cell_type": "code",
   "execution_count": 19,
   "id": "810387ac",
   "metadata": {},
   "outputs": [],
   "source": [
    "c_skl = reg.intercept_[0]\n",
    "m_skl = reg.coef_[0,0]"
   ]
  },
  {
   "cell_type": "code",
   "execution_count": 20,
   "id": "5e4cacdc",
   "metadata": {},
   "outputs": [],
   "source": [
    "y_pred_skl = reg.predict(x_test.reshape(-1,1))"
   ]
  },
  {
   "cell_type": "code",
   "execution_count": 21,
   "id": "4c4d064f",
   "metadata": {},
   "outputs": [
    {
     "name": "stdout",
     "output_type": "stream",
     "text": [
      "mae : 47.4788414649149\n",
      "rmse : 59.512910516401796\n"
     ]
    }
   ],
   "source": [
    "accuracy(y_pred_skl,y_test)"
   ]
  },
  {
   "cell_type": "code",
   "execution_count": 22,
   "id": "7e79da6b",
   "metadata": {},
   "outputs": [
    {
     "data": {
      "text/plain": [
       "[<matplotlib.lines.Line2D at 0x7fa5b0e81a60>]"
      ]
     },
     "execution_count": 22,
     "metadata": {},
     "output_type": "execute_result"
    },
    {
     "data": {
      "image/png": "[encoded data removed]",
      "text/plain": [
       "<Figure size 432x288 with 1 Axes>"
      ]
     },
     "metadata": {
      "needs_background": "light"
     },
     "output_type": "display_data"
    }
   ],
   "source": [
    "plt.scatter(x_test,y_test,c=\"r\")\n",
    "plt.plot(x_test,y_pred_skl,c=\"b\")"
   ]
  },
  {
   "cell_type": "code",
   "execution_count": 23,
   "id": "08663841",
   "metadata": {},
   "outputs": [
    {
     "name": "stdout",
     "output_type": "stream",
     "text": [
      "Linear Reg from Scratch :\n",
      "\tSlope 0.9046937554410581 \tIntercept: 7.133627294621164\n",
      "Gradient Descent Method :\n",
      "\tSlope 0.9257668201699256 \tIntercept: 5.714744185087895\n",
      "SKLearn Method :\n",
      "\tSlope 0.9046937554410588 \tIntercept: 7.133627294621135\n"
     ]
    }
   ],
   "source": [
    "print(\"Linear Reg from Scratch :\")\n",
    "print(\"\\tSlope\",m_scr,\"\\tIntercept:\",c_scr)\n",
    "print(\"Gradient Descent Method :\")\n",
    "print(\"\\tSlope\",m_gd,\"\\tIntercept:\",c_gd)\n",
    "print(\"SKLearn Method :\")\n",
    "print(\"\\tSlope\",m_skl,\"\\tIntercept:\",c_skl)"
   ]
  },
  {
   "cell_type": "code",
   "execution_count": null,
   "id": "604b8cdb",
   "metadata": {},
   "outputs": [],
   "source": []
  }
 ],
 "metadata": {
  "kernelspec": {
   "display_name": "Python 3 (ipykernel)",
   "language": "python",
   "name": "python3"
  },
  "language_info": {
   "codemirror_mode": {
    "name": "ipython",
    "version": 3
   },
   "file_extension": ".py",
   "mimetype": "text/x-python",
   "name": "python",
   "nbconvert_exporter": "python",
   "pygments_lexer": "ipython3",
   "version": "3.9.7"
  }
 },
 "nbformat": 4,
 "nbformat_minor": 5
}
